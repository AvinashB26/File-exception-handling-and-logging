{
  "nbformat": 4,
  "nbformat_minor": 0,
  "metadata": {
    "colab": {
      "provenance": []
    },
    "kernelspec": {
      "name": "python3",
      "display_name": "Python 3"
    },
    "language_info": {
      "name": "python"
    }
  },
  "cells": [
    {
      "cell_type": "code",
      "source": [],
      "metadata": {
        "id": "n1TLybC12uyz"
      },
      "execution_count": null,
      "outputs": []
    },
    {
      "cell_type": "markdown",
      "source": [
        "# Theoretical Ques:\n",
        "\n",
        "1. What is the difference between interpreted and compiled languages?\n",
        "\n",
        "**Ans:**\n",
        "Interpreted languages execute code line by line. The interpreter reads a statement, executes it, and then proceeds to the next line. Python is an example of an interpreted language.\n",
        "\n",
        "Compiled languages convert the entire source code into machine code before execution. This machine code is then executed directly by the computer's processor. C++ is an example of a compiled language.\n",
        "\n",
        "2. What is exception handling in Python?\n",
        "\n",
        "**Ans:**\n",
        "Exception handling in Python is a mechanism to deal with errors that occur during the execution of a program. It allows the program to continue running even if an error occurs.\n",
        "\n",
        "3. What is the purpose of the finally block in exception handling?\n",
        "\n",
        "**Ans:**\n",
        "The finally block is used to execute code that should run regardless of whether an exception was raised or not. It is typically used for cleanup operations like closing files or releasing resources.\n",
        "\n",
        "4. What is logging in Python?\n",
        "\n",
        "**Ans:**\n",
        "Logging in Python is a built-in module that provides a flexible framework for emitting log messages from Python programs. It is used to track events that occur during the execution of a program.\n",
        "\n",
        "5. What is the significance of the __del__ method in Python?\n",
        "\n",
        "**Ans:**\n",
        "The __del__ method is a special method in Python classes that is called when an instance of the class is about to be destroyed. It is used to perform cleanup operations such as releasing resources.\n",
        "\n",
        "6. What is the difference between import and from...import in Python?\n",
        "\n",
        "**Ans:**\n",
        "> import statement imports an entire module. You need to use the module name to access its functions and variables (e.g., import math; print(math.sqrt(25))).\n",
        "\n",
        "> from...import statement imports specific attributes (functions, classes, variables) from a module, allowing you to use them directly without the module name (e.g., from math import sqrt; print(sqrt(25))).\n",
        "\n",
        "7. How can you handle multiple exceptions in Python?\n",
        "\n",
        "**Ans:**\n",
        "You can handle multiple exceptions using multiple except blocks, each designed to catch a specific type of exception. You can also use a single except block to catch multiple exceptions by specifying them as a tuple.\n",
        "\n",
        "8. What is the purpose of the with statement when handling files in Python?\n",
        "\n",
        "**Ans:**\n",
        "The with statement is used to simplify file handling by ensuring that files are properly closed after their operations are completed, even if exceptions occur. It acts as a context manager.\n",
        "\n",
        "9. What is the difference between multithreading and multiprocessing?\n",
        "\n",
        "**Ans:**\n",
        ">Multithreading involves running multiple threads within a single process, sharing the same memory space.\n",
        "\n",
        ">Multiprocessing involves running multiple processes, each with its own memory space. Multiprocessing can achieve true parallelism on multi-core systems, whereas multithreading is often limited by the Global Interpreter Lock (GIL) in Python.\n",
        "\n",
        "10. What are the advantages of using logging in a program?\n",
        "\n",
        "**Ans:**\n",
        "Advantages of using logging include:\n",
        ">Provides a way to record events that occur during program execution.\n",
        "\n",
        ">Helps in debugging and diagnosing issues.\n",
        "\n",
        ">Allows for different levels of log messages (e.g., INFO, WARNING, ERROR).\n",
        "\n",
        ">Enables better control over log message formatting and output destination.\n",
        "\n",
        "11. What is memory management in Python?\n",
        "\n",
        "**Ans:**\n",
        "Memory management in Python involves the allocation and deallocation of memory for objects. Python uses automatic memory management, primarily through garbage collection.\n",
        "\n",
        "12. What are the basic steps involved in exception handling in Python?\n",
        "\n",
        "**Ans:**\n",
        "The basic steps in exception handling in Python are:\n",
        ">try: Enclose the code that might raise an exception within a try block.\n",
        "except: Use one or more except blocks to catch and handle specific exceptions.\n",
        "\n",
        ">finally (optional): Include a finally block to execute code that should always run, regardless of exceptions.\n",
        "\n",
        ">else (optional): Include an else block to execute code if no exceptions were raised in the try block\n",
        "\n",
        "13. Why is memory management important in Python?\n",
        "\n",
        "**Ans:**\n",
        "Memory management is important in Python to:\n",
        "\n",
        ">Prevent memory leaks.\n",
        "\n",
        ">Optimize memory usage.\n",
        "\n",
        ">Improve program efficiency and stability.\n",
        "\n",
        "14. What is the role of try and except in exception handling?\n",
        "\n",
        "**Ans:**\n",
        ">The try block contains the code that might raise an exception.\n",
        "\n",
        ">The except block(s) contain the code that handles the exception(s) if they occur in the try block.\n",
        "\n",
        "15. How does Python's garbage collection system work?\n",
        "\n",
        "**Ans:**\n",
        "Python's garbage collection system primarily uses a mechanism called \"reference counting.\" It keeps track of the number of references to an object and deallocates the memory when the reference count drops to zero. It also includes a cyclic garbage collector to handle reference cycles.\n",
        "\n",
        "16. What is the purpose of the else block in exception handling?\n",
        "\n",
        "**Ans:** The else block in exception handling is executed if no exception is raised in the try block.\n",
        "\n",
        "17. What are the common logging levels in Python?\n",
        "\n",
        "**Ans:** The common logging levels in Python are:\n",
        "1. DEBUG: Detailed information, typically used for debugging.\n",
        "\n",
        "2. INFO: Informational messages that confirm that things are working as expected.\n",
        "\n",
        "3. WARNING: Indication that something unexpected happened, or might happen in the future.\n",
        "\n",
        "4. ERROR: Indication that a more serious problem has occurred.\n",
        "\n",
        "5. CRITICAL: Indicates a severe error that may lead to the program's termination.\n",
        "\n",
        "\n",
        "18. What is the difference between os.fork() and multiprocessing in Python?\n",
        "\n",
        "**Ans:**\n",
        "os.fork() creates a new process by duplicating the existing process. It is only available on Unix-like systems.\n",
        "\n",
        "The multiprocessing module is a higher-level abstraction that provides a way to create and manage processes. It works on both Unix-like and Windows systems and offers more features than os.fork().\n",
        "\n",
        "19. What is the importance of closing a file in Python?\n",
        "\n",
        "**Ans:** Closing a file in Python is important to:\n",
        "Free up system resources.\n",
        "\n",
        "Ensure that any pending writes are flushed to the disk.\n",
        "\n",
        "Prevent file corruption.\n",
        "\n",
        "Avoid reaching the maximum number of open files allowed by the operating system.\n",
        "\n",
        "20. What is the difference between file.read() and file.readline() in Python?\n",
        "\n",
        "**Ans:**\n",
        "file.read() reads the entire content of the file as a single string.\n",
        "\n",
        "file.readline() reads a single line from the file.\n",
        "\n",
        "21. What is the logging module in Python used for?\n",
        "\n",
        "**Ans:**\n",
        "The logging module in Python is used for tracking events that occur during the execution of a program. It provides a flexible way to emit log messages with different levels of severity.\n",
        "\n",
        "22. What is the os module in Python used for in file handling?\n",
        "\n",
        "**Ans:** The os module in Python is used for interacting with the operating system. In file handling, it can be used for tasks such as:\n",
        "Checking if a file exists.\n",
        "\n",
        "Creating or deleting directories.\n",
        "\n",
        "Renaming files.\n",
        "\n",
        "Getting file attributes\n",
        "\n",
        "23. What are the challenges associated with memory management in Python?\n",
        "\n",
        "**Ans:**\n",
        "Challenges associated with memory management in Python include:\n",
        "Memory leaks (though less common due to garbage collection).\n",
        "\n",
        "High memory consumption for large data structures.\n",
        "\n",
        "Garbage collection overhead can sometimes impact performance.\n",
        "\n",
        "24. How do you raise an exception manually in Python?\n",
        "\n",
        "**Ans:**\n",
        "You can raise an exception manually using the raise statement, followed by the exception class or instance.\n",
        "\n",
        "25. Why is it important to use multithreading in certain applications?\n",
        "\n",
        "**Ans:** Multithreading is important in applications where you need to perform multiple tasks concurrently, such as:\n",
        "\n",
        "Improving responsiveness of GUI applications.\n",
        "\n",
        "Handling I/O-bound operations concurrently."
      ],
      "metadata": {
        "id": "Sq_RLYm8t6_2"
      }
    },
    {
      "cell_type": "markdown",
      "source": [
        "# Practical Questions"
      ],
      "metadata": {
        "id": "ZOryOC99NFX_"
      }
    },
    {
      "cell_type": "code",
      "source": [
        "#1. How can you open a file for writing in Python and write a string to it?\n",
        "#Sol:\n",
        "file = open(\"example.txt\", \"w\")\n",
        "file.write(\"Hello, World!\\n\")\n",
        "file.write(\"This is an example file\")\n",
        "file.close()"
      ],
      "metadata": {
        "id": "8282xka4NC1k"
      },
      "execution_count": 11,
      "outputs": []
    },
    {
      "cell_type": "code",
      "source": [
        "#2. Write a Python program to read the contents of a file and print each line.\n",
        "#Sol:\n",
        "file = open(\"example.txt\", \"r\")\n",
        "for line in file:\n",
        "    print(line)\n",
        "file.close()"
      ],
      "metadata": {
        "colab": {
          "base_uri": "https://localhost:8080/"
        },
        "id": "YlNqu2GkOgqZ",
        "outputId": "f405f6e7-98ba-4ff7-8d7b-9545f95535f1"
      },
      "execution_count": 12,
      "outputs": [
        {
          "output_type": "stream",
          "name": "stdout",
          "text": [
            "Hello, World!\n",
            "\n",
            "This is an example file\n"
          ]
        }
      ]
    },
    {
      "cell_type": "code",
      "source": [
        "#3. How would you handle a case where the file doesn't exist while trying to open it for reading?\n",
        "#Sol:\n",
        "try:\n",
        "    file = open(\"nonexistent_file.txt\", \"r\")\n",
        "except FileNotFoundError as e:\n",
        "    print(f\"The file does not exist {e}\\n\")\n",
        "    print(\"Please check the file name and try again\")"
      ],
      "metadata": {
        "colab": {
          "base_uri": "https://localhost:8080/"
        },
        "id": "W7NJgdZxPgX7",
        "outputId": "9eb70bcc-9e6f-476d-858f-919d81da2e39"
      },
      "execution_count": 16,
      "outputs": [
        {
          "output_type": "stream",
          "name": "stdout",
          "text": [
            "The file does not exist [Errno 2] No such file or directory: 'nonexistent_file.txt'\n",
            "\n",
            "Please check the file name and try again\n"
          ]
        }
      ]
    },
    {
      "cell_type": "code",
      "source": [
        "#4. Write a Python script that reads from one file and writes its content to another file.\n",
        "#Sol:\n",
        "source_file_path = \"example.txt\"  # Assuming this file exists\n",
        "destination_file_path = \"output.txt\"\n",
        "\n",
        "try:\n",
        "    with open(source_file_path, 'r') as source_file:\n",
        "        with open(destination_file_path, 'w') as dest_file:\n",
        "            for line in source_file:\n",
        "                dest_file.write(line)\n",
        "    print(f\"Content copied from '{source_file_path}' to '{destination_file_path}'\")\n",
        "except FileNotFoundError:\n",
        "    print(f\"Error: Source file '{source_file_path}' not found.\")\n",
        "except Exception as e:\n",
        "    print(f\"An error occurred: {e}\")"
      ],
      "metadata": {
        "colab": {
          "base_uri": "https://localhost:8080/"
        },
        "id": "WXfsTuFZRyQn",
        "outputId": "61734680-f492-472a-8ac8-bc91ba4a307d"
      },
      "execution_count": 17,
      "outputs": [
        {
          "output_type": "stream",
          "name": "stdout",
          "text": [
            "Content copied from 'example.txt' to 'output.txt'\n"
          ]
        }
      ]
    },
    {
      "cell_type": "code",
      "source": [
        "#5. How would you catch and handle division by zero error in Python?\n",
        "#Sol:\n",
        "#   Handling DivisionByZeroError\n",
        "try:\n",
        "    numerator = 10\n",
        "    denominator = 0\n",
        "    result = numerator / denominator\n",
        "    print(result)\n",
        "except ZeroDivisionError:\n",
        "    print(\"Error: Division by zero is not allowed.\")\n",
        "except Exception as e:\n",
        "    print(f\"An error occurred: {e}\")"
      ],
      "metadata": {
        "colab": {
          "base_uri": "https://localhost:8080/"
        },
        "id": "IcutGGSmWVld",
        "outputId": "75e92754-7f64-4bad-c26d-f9341c7b7048"
      },
      "execution_count": 18,
      "outputs": [
        {
          "output_type": "stream",
          "name": "stdout",
          "text": [
            "Error: Division by zero is not allowed.\n"
          ]
        }
      ]
    },
    {
      "cell_type": "code",
      "source": [
        "#6. Write a Python program that logs an error message to a log file when a division by zero exception occurs.\n",
        "#Sol.\n",
        "\n",
        "import logging\n",
        "\n",
        "#   Logging DivisionByZeroError to a file\n",
        "logging.basicConfig(filename='error.log', level=logging.ERROR)\n",
        "\n",
        "try:\n",
        "    numerator = 10\n",
        "    denominator = 0\n",
        "    result = numerator / denominator\n",
        "    print(result)\n",
        "except ZeroDivisionError:\n",
        "    logging.error(\"Division by zero error occurred.\")\n",
        "    print(\"Error: Division by zero is not allowed.\")\n",
        "except Exception as e:\n",
        "    logging.error(f\"An unexpected error occurred: {e}\")\n",
        "    print(f\"An error occurred: {e}\")"
      ],
      "metadata": {
        "colab": {
          "base_uri": "https://localhost:8080/"
        },
        "id": "P2I3iycjWji7",
        "outputId": "61146997-dbe0-40ac-8d40-e7af51b13b49"
      },
      "execution_count": 19,
      "outputs": [
        {
          "output_type": "stream",
          "name": "stderr",
          "text": [
            "ERROR:root:Division by zero error occurred.\n"
          ]
        },
        {
          "output_type": "stream",
          "name": "stdout",
          "text": [
            "Error: Division by zero is not allowed.\n"
          ]
        }
      ]
    },
    {
      "cell_type": "code",
      "source": [
        "#7. How do you log information at different levels (INFO, ERROR, WARNING) in Python using the logging module?\n",
        "#Sol:\n",
        "import logging\n",
        "#Logging at different levels\n",
        "logging.basicConfig(filename = \"test1.log\" , level = logging.INFO)  # Set the logging level\n",
        "\n",
        "logging.info(\"This is an informational message.\")\n",
        "logging.warning(\"This is a warning message.\")\n",
        "logging.error(\"This is an error message.\")\n",
        "logging.shutdown()\n"
      ],
      "metadata": {
        "colab": {
          "base_uri": "https://localhost:8080/"
        },
        "id": "WydSxd3ZW7wu",
        "outputId": "941c98d0-e1db-452f-8964-323941e2c115"
      },
      "execution_count": 27,
      "outputs": [
        {
          "output_type": "stream",
          "name": "stderr",
          "text": [
            "WARNING:root:This is a warning message.\n",
            "ERROR:root:This is an error message.\n"
          ]
        }
      ]
    },
    {
      "cell_type": "code",
      "source": [
        "#8. Write a program to handle a file opening error using exception handling.\n",
        "#Sol:\n",
        "file_path = \"missing_file.txt\"\n",
        "try:\n",
        "    file = open(file_path, 'r')\n",
        "    file.close()\n",
        "except FileNotFoundError:\n",
        "    print(f\"Error: File '{file_path}' not found.\")\n",
        "except Exception as e:\n",
        "    print(f\"An error occurred: {e}\")"
      ],
      "metadata": {
        "colab": {
          "base_uri": "https://localhost:8080/"
        },
        "id": "aZfyjbwFZ2WI",
        "outputId": "391d2fa7-36be-4b81-b492-be13af44c1bb"
      },
      "execution_count": 28,
      "outputs": [
        {
          "output_type": "stream",
          "name": "stdout",
          "text": [
            "Error: File 'missing_file.txt' not found.\n"
          ]
        }
      ]
    },
    {
      "cell_type": "code",
      "source": [
        "#9. How can you read a file line by line and store its content in a list in Python?\n",
        "#Sol:\n",
        "#   Reading file content into a list\n",
        "file_path = \"example.txt\"  # Assuming this file exists\n",
        "try:\n",
        "    with open(file_path, 'r') as file:\n",
        "        lines = file.readlines()  # Read all lines into a list\n",
        "    lines = [line.strip() for line in lines]  # Remove trailing newlines\n",
        "    print(lines)\n",
        "except FileNotFoundError:\n",
        "    print(f\"Error: File '{file_path}' not found.\")\n",
        "except Exception as e:\n",
        "    print(f\"An error occurred: {e}\")"
      ],
      "metadata": {
        "colab": {
          "base_uri": "https://localhost:8080/"
        },
        "id": "xROPtraCaMj1",
        "outputId": "ee3c1693-b031-46c7-d104-2bd381e65e92"
      },
      "execution_count": 34,
      "outputs": [
        {
          "output_type": "stream",
          "name": "stdout",
          "text": [
            "['Hello, World!', 'This is an example file']\n"
          ]
        }
      ]
    },
    {
      "cell_type": "code",
      "source": [
        "#10. How can you append data to an existing file in Python?\n",
        "\n",
        "#Sol.\n",
        "file = \"example.txt\"\n",
        "with open(file , \"a\") as file:\n",
        "    file.write(\"\\nAppended line\")\n",
        "print(f\"Appended data to {file}.\")"
      ],
      "metadata": {
        "colab": {
          "base_uri": "https://localhost:8080/"
        },
        "id": "BBxpxMqJb95D",
        "outputId": "3f6bdcb0-55e2-4ebb-aac5-49f3f6cd9fc4"
      },
      "execution_count": 35,
      "outputs": [
        {
          "output_type": "stream",
          "name": "stdout",
          "text": [
            "Appended data to <_io.TextIOWrapper name='example.txt' mode='a' encoding='utf-8'>.\n"
          ]
        }
      ]
    },
    {
      "cell_type": "code",
      "source": [
        "#11. Write a Python program that uses a try-except block to handle an error when attempting to access a dictionary key that doesn't exist.\n",
        "#Sol:\n",
        "dict = {\"Name\": \"Avinash\"}\n",
        "try:\n",
        "    print(dict[\"Age\"])\n",
        "except KeyError:\n",
        "    print(\"Error: Key not found in the dictionary.\")\n",
        "except Exception as e:\n",
        "    print(f\"An error occurred: {e}\")"
      ],
      "metadata": {
        "colab": {
          "base_uri": "https://localhost:8080/"
        },
        "id": "VVho7KaSdXQE",
        "outputId": "3dbe3aeb-b446-446d-d9a0-e514dbfe3dfa"
      },
      "execution_count": 36,
      "outputs": [
        {
          "output_type": "stream",
          "name": "stdout",
          "text": [
            "Error: Key not found in the dictionary.\n"
          ]
        }
      ]
    },
    {
      "cell_type": "code",
      "source": [
        "#12.  Write a program that demonstrates using multiple except blocks to handle different types of exceptions.\n",
        "#Sol:\n",
        "try:\n",
        "    #   Potentially problematic code\n",
        "    numerator = int(input(\"Enter numerator: \"))\n",
        "    denominator = int(input(\"Enter denominator: \"))\n",
        "    result = numerator / denominator\n",
        "    my_list = [1, 2, 3]\n",
        "    print(my_list[5])  # IndexError\n",
        "except ZeroDivisionError:\n",
        "    print(\"Error: Cannot divide by zero.\")\n",
        "except ValueError:\n",
        "    print(\"Error: Invalid input. Please enter numbers only.\")\n",
        "except IndexError:\n",
        "    print(\"Error: Index out of range.\")\n",
        "except Exception as e:\n",
        "    print(f\"An unexpected error occurred: {e}\")\n",
        "else:\n",
        "    print(f\"Result: {result}\")"
      ],
      "metadata": {
        "colab": {
          "base_uri": "https://localhost:8080/"
        },
        "id": "dvfyRSXpd4vA",
        "outputId": "3d13126d-713e-49f5-f74c-d47ac583fd0f"
      },
      "execution_count": 38,
      "outputs": [
        {
          "output_type": "stream",
          "name": "stdout",
          "text": [
            "Enter numerator: 6\n",
            "Enter denominator: 3\n",
            "Error: Index out of range.\n"
          ]
        }
      ]
    },
    {
      "cell_type": "code",
      "source": [
        "#13. How would you check if a file exists before attempting to read it in Python?\n",
        "#Sol:\n",
        "import os\n",
        "\n",
        "#   Checking if a file exists\n",
        "file_path = \"example.txt\"\n",
        "if os.path.exists(file_path):\n",
        "    try:\n",
        "        with open(file_path, 'r') as file:\n",
        "            content = file.read()\n",
        "        print(content)\n",
        "    except Exception as e:\n",
        "        print(f\"An error occurred while reading the file: {e}\")\n",
        "else:\n",
        "    print(f\"Error: File '{file_path}' does not exist.\")"
      ],
      "metadata": {
        "colab": {
          "base_uri": "https://localhost:8080/"
        },
        "id": "jQZLuCqpeiBJ",
        "outputId": "1d8c76f3-8b65-4397-cd7b-4a3824ece9ad"
      },
      "execution_count": 39,
      "outputs": [
        {
          "output_type": "stream",
          "name": "stdout",
          "text": [
            "Hello, World!\n",
            "This is an example file\n",
            "Appended line\n"
          ]
        }
      ]
    },
    {
      "cell_type": "code",
      "source": [
        "#14. Write a program that uses the logging module to log both informational and error messages.\n",
        "#Sol:\n",
        "import logging\n",
        "\n",
        "#Logging info and error messages\n",
        "logging.basicConfig(level=logging.INFO, filename='app.log', filemode='w')\n",
        "\n",
        "logging.info(\"Application started.\")\n",
        "\n",
        "try:\n",
        "    x = 1 / 0\n",
        "except ZeroDivisionError:\n",
        "    logging.error(\"Division by zero error.\")\n",
        "\n",
        "logging.info(\"Application finished.\")\n"
      ],
      "metadata": {
        "colab": {
          "base_uri": "https://localhost:8080/"
        },
        "id": "PmqorG8we1gD",
        "outputId": "55e4346b-7e6c-4b7c-c64b-77c0752b042b"
      },
      "execution_count": 40,
      "outputs": [
        {
          "output_type": "stream",
          "name": "stderr",
          "text": [
            "ERROR:root:Division by zero error.\n"
          ]
        }
      ]
    },
    {
      "cell_type": "code",
      "source": [
        "#15. Write a Python program that prints the content of a file and handles the case when the file is empty.\n",
        "#Sol:\n",
        "file_path = \"example.txt\"\n",
        "try:\n",
        "    with open(file_path, 'r') as file:\n",
        "        content = file.read()\n",
        "        if not content:\n",
        "            print(f\"Error: File '{file_path}' is empty.\")\n",
        "        else:\n",
        "            print(content)\n",
        "except FileNotFoundError:\n",
        "    print(f\"Error: File '{file_path}' not found.\")\n",
        "except Exception as e:\n",
        "    print(f\"An error occurred: {e}\")"
      ],
      "metadata": {
        "colab": {
          "base_uri": "https://localhost:8080/"
        },
        "id": "pKo2QrZjfwkP",
        "outputId": "a4f6886e-6d08-44c1-f448-03bcbb1fa2e4"
      },
      "execution_count": 43,
      "outputs": [
        {
          "output_type": "stream",
          "name": "stdout",
          "text": [
            "Hello, World!\n",
            "This is an example file\n",
            "Appended line\n"
          ]
        }
      ]
    },
    {
      "cell_type": "code",
      "source": [
        "#16. Demonstrate how to use memory profiling to check the memory usage of a small program.\n",
        "\n",
        "#Sol:\n",
        "from memory_profiler import profile\n",
        "# Memory_profiler could not improted on G colab plateform\n",
        "@profile\n",
        "def my_function():\n",
        "    my_list = [i for i in range(1000000)]\n",
        "    return sum(my_list)\n",
        "\n",
        "if __name__ == \"__main__\":\n",
        "    result = my_function()\n",
        "    print(f\"Result: {result}\")"
      ],
      "metadata": {
        "id": "Mzigp9z3gjYX"
      },
      "execution_count": null,
      "outputs": []
    },
    {
      "cell_type": "code",
      "source": [
        "#17. Write a Python program to create and write a list of numbers to a file, one number per line.\n",
        "\n",
        "#Sol:\n",
        "#   Writing a list of numbers to a file\n",
        "numbers = [10, 20, 30, 40, 50]\n",
        "file_path = \"numbers.txt\"\n",
        "\n",
        "try:\n",
        "    with open(file_path, 'w') as file:\n",
        "        for number in numbers:\n",
        "            file.write(str(number) + '\\n')\n",
        "    print(f\"Numbers written to '{file_path}'\")\n",
        "except Exception as e:\n",
        "    print(f\"An error occurred: {e}\")"
      ],
      "metadata": {
        "colab": {
          "base_uri": "https://localhost:8080/"
        },
        "id": "aL2s5c_Tju3Q",
        "outputId": "fecaaef0-b7cd-43ed-df84-d7429ed01f84"
      },
      "execution_count": 45,
      "outputs": [
        {
          "output_type": "stream",
          "name": "stdout",
          "text": [
            "Numbers written to 'numbers.txt'\n"
          ]
        }
      ]
    },
    {
      "cell_type": "code",
      "source": [
        "#18. How would you implement a basic logging setup that logs to a file with rotation after 1MB?\n",
        "\n",
        "import logging\n",
        "from logging.handlers import RotatingFileHandler\n",
        "\n",
        "#   Logging with file rotation\n",
        "log_file = \"rotating.log\"\n",
        "log_handler = RotatingFileHandler(log_file, maxBytes=1024 * 1024, backupCount=3)  # 1MB rotation, keep 3 backups\n",
        "logging.basicConfig(level=logging.INFO, handlers=[log_handler])\n",
        "\n",
        "for i in range(100000):\n",
        "    logging.info(f\"Log entry {i}\")  # This will trigger rotation"
      ],
      "metadata": {
        "id": "N1SClOYtkG3p"
      },
      "execution_count": 46,
      "outputs": []
    },
    {
      "cell_type": "code",
      "source": [
        "#19. Write a program that handles both IndexError and KeyError using a try-except block.\n",
        "\n",
        "#Sol:\n",
        "#   Handling IndexError and KeyError\n",
        "my_list = [1, 2, 3]\n",
        "my_dict = {'a': 1, 'b': 2}\n",
        "\n",
        "try:\n",
        "    value1 = my_list[5]\n",
        "    value2 = my_dict['c']\n",
        "except IndexError:\n",
        "    print(\"Error: Index out of range.\")\n",
        "except KeyError:\n",
        "    print(\"Error: Key not found.\")\n",
        "except Exception as e:\n",
        "    print(f\"An error occurred: {e}\")"
      ],
      "metadata": {
        "colab": {
          "base_uri": "https://localhost:8080/"
        },
        "id": "IwQ2dkVEkRIi",
        "outputId": "b07e9b31-819f-44fc-8257-a27987ac9057"
      },
      "execution_count": 47,
      "outputs": [
        {
          "output_type": "stream",
          "name": "stdout",
          "text": [
            "Error: Index out of range.\n"
          ]
        }
      ]
    },
    {
      "cell_type": "code",
      "source": [
        "#20. How would you open a file and read its contents using a context manager in Python?\n",
        "\n",
        "#Sol:\n",
        "file_path = \"example.txt\"  # Assuming this file exists\n",
        "try:\n",
        "    with open(file_path, 'r') as file:\n",
        "        content = file.read()\n",
        "    print(content)\n",
        "except FileNotFoundError:\n",
        "    print(f\"Error: File '{file_path}' not found.\")\n",
        "except Exception as e:\n",
        "    print(f\"An error occurred: {e}\")"
      ],
      "metadata": {
        "colab": {
          "base_uri": "https://localhost:8080/"
        },
        "id": "Sh5mZPcVkzmW",
        "outputId": "faf7feaa-99ec-4d70-f8b5-f7a4f0349528"
      },
      "execution_count": 48,
      "outputs": [
        {
          "output_type": "stream",
          "name": "stdout",
          "text": [
            "Hello, World!\n",
            "This is an example file\n",
            "Appended line\n"
          ]
        }
      ]
    },
    {
      "cell_type": "code",
      "source": [
        "#21.Write a Python program that reads a file and prints the number of occurrences of a specific word.\n",
        "#Sol:\n",
        "#   Counting word occurrences in a file\n",
        "file_path = \"example.txt\"  # Assuming this file exists\n",
        "word_to_count = \"World\"\n",
        "\n",
        "try:\n",
        "    with open(file_path, 'r') as file:\n",
        "        content = file.read()\n",
        "        word_count = content.count(word_to_count)\n",
        "    print(f\"The word '{word_to_count}' appears {word_count} times in the file.\")\n",
        "except FileNotFoundError:\n",
        "    print(f\"Error: File '{file_path}' not found.\")\n",
        "except Exception as e:\n",
        "    print(f\"An error occurred: {e}\")"
      ],
      "metadata": {
        "colab": {
          "base_uri": "https://localhost:8080/"
        },
        "id": "qr0QhpN_lE2Z",
        "outputId": "a0687045-2a7f-4b29-a183-28e06a862bf4"
      },
      "execution_count": 51,
      "outputs": [
        {
          "output_type": "stream",
          "name": "stdout",
          "text": [
            "The word 'World' appears 1 times in the file.\n"
          ]
        }
      ]
    },
    {
      "cell_type": "code",
      "source": [
        "#22. How can you check if a file is empty before attempting to read its contents?\n",
        "\n",
        "#Sol:\n",
        "import os\n",
        "file = open(\"empty_file.txt\", \"w\")\n",
        "file.close()\n",
        "#   Checking if a file is empty\n",
        "file_path = \"empty_file.txt\"  # Assuming this file exists\n",
        "\n",
        "if os.path.exists(file_path) and os.path.getsize(file_path) == 0:\n",
        "    print(f\"File '{file_path}' is empty.\")\n",
        "else:\n",
        "    try:\n",
        "        with open(file_path, 'r') as file:\n",
        "            content = file.read()\n",
        "        if not content:\n",
        "            print(f\"File '{file_path}' is empty.\")\n",
        "        else:\n",
        "            print(f\"File '{file_path}' is not empty.\")\n",
        "    except FileNotFoundError:\n",
        "        print(f\"Error: File '{file_path}' not found.\")\n",
        "    except Exception as e:\n",
        "        print(f\"An error occurred: {e}\")"
      ],
      "metadata": {
        "colab": {
          "base_uri": "https://localhost:8080/"
        },
        "id": "Pt7qz7IIlqFb",
        "outputId": "8a5d4614-99bc-4002-bb58-73766c76fcbd"
      },
      "execution_count": 52,
      "outputs": [
        {
          "output_type": "stream",
          "name": "stdout",
          "text": [
            "File 'empty_file.txt' is empty.\n"
          ]
        }
      ]
    },
    {
      "cell_type": "code",
      "source": [
        "#23.  Write a Python program that writes to a log file when an error occurs during file handling.\n",
        "\n",
        "#Sol:\n",
        "import logging\n",
        "\n",
        "logging.basicConfig(filename='file_errors.log', level=logging.ERROR)\n",
        "\n",
        "file_path = \"nonexistent.txt\"\n",
        "\n",
        "try:\n",
        "    with open(file_path, 'r') as file:\n",
        "        file.read()\n",
        "except FileNotFoundError as e:\n",
        "    logging.error(f\"File not found error: {e}\")\n",
        "    print(f\"Error: File '{file_path}' not found.\")\n",
        "except Exception as e:\n",
        "    logging.error(f\"An unexpected error occurred: {e}\")\n",
        "    print(f\"An error occurred: {e}\")"
      ],
      "metadata": {
        "colab": {
          "base_uri": "https://localhost:8080/"
        },
        "id": "2p6KGCbNmbet",
        "outputId": "daa359f2-d49f-4741-c66a-c48a33a714d6"
      },
      "execution_count": 53,
      "outputs": [
        {
          "output_type": "stream",
          "name": "stderr",
          "text": [
            "ERROR:root:File not found error: [Errno 2] No such file or directory: 'nonexistent.txt'\n"
          ]
        },
        {
          "output_type": "stream",
          "name": "stdout",
          "text": [
            "Error: File 'nonexistent.txt' not found.\n"
          ]
        }
      ]
    }
  ]
}